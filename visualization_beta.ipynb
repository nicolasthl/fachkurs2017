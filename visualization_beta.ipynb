{
 "cells": [
  {
   "cell_type": "code",
   "execution_count": null,
   "metadata": {
    "collapsed": false
   },
   "outputs": [],
   "source": [
    "#standard\n",
    "import numpy as np\n",
    "import scipy as sci\n",
    "import matplotlib.pyplot as plt\n",
    "import matplotlib as mpl\n",
    "import math as mt\n",
    "import pandas as pd"
   ]
  },
  {
   "cell_type": "code",
   "execution_count": null,
   "metadata": {
    "collapsed": false
   },
   "outputs": [],
   "source": [
    "#just playing aorund\n",
    "d = np.linspace(-4,4,100)\n",
    "e = d ** 2\n",
    "plt.plot(d,e)#x,y\n",
    "plt.xlabel('some numbers')\n",
    "plt.ylabel('even more numbers')\n",
    "plt.show()"
   ]
  },
  {
   "cell_type": "code",
   "execution_count": null,
   "metadata": {
    "collapsed": false
   },
   "outputs": [],
   "source": [
    "#on to colours and styles\n",
    "d = np.linspace(0,42,100)\n",
    "e = d ** 2\n",
    "f = d * 15\n",
    "#plt.plot(d,e,'ro')#x,y\n",
    "plt.plot(d, e, 'r--', d, f, 'b--')#, t, t**3, 'g^')\n",
    "plt.legend(frameon=False)\n",
    "plt.xlabel('some time ticks')\n",
    "plt.ylabel('even more numbers')\n",
    "plt.show()"
   ]
  },
  {
   "cell_type": "code",
   "execution_count": null,
   "metadata": {
    "collapsed": true
   },
   "outputs": [],
   "source": [
    "#on to labels and legends\n"
   ]
  },
  {
   "cell_type": "code",
   "execution_count": null,
   "metadata": {
    "collapsed": false
   },
   "outputs": [],
   "source": [
    "#on to colours and styles\n",
    "d = np.linspace(0,42,100)\n",
    "e = d ** 2\n",
    "#f = d * 15\n",
    "#plt.plot(d,e,'ro')#x,y\n",
    "plt.loglog(d, e, 'r--')#, d, f, 'b--')#, t, t**3, 'g^')\n",
    "\n",
    "plt.xlabel('some time ticks')\n",
    "plt.ylabel('even more numbers')\n",
    "plt.show()"
   ]
  },
  {
   "cell_type": "code",
   "execution_count": null,
   "metadata": {
    "collapsed": false
   },
   "outputs": [],
   "source": [
    "#playing w/ strings\n",
    "a = 'adam'\n",
    "b = 'eva'\n",
    "#\n",
    "kind = a + b\n",
    "print(kind)\n",
    "goere = 'adameva'\n",
    "if (kind is goere): print('hooray')"
   ]
  },
  {
   "cell_type": "code",
   "execution_count": null,
   "metadata": {
    "collapsed": false,
    "scrolled": false
   },
   "outputs": [],
   "source": [
    "import matplotlib\n",
    "matplotlib.style.use('bmh')\n",
    "%matplotlib inline\n",
    "fig = plt.figure(figsize=(25,10))\n",
    "ax = fig.add_subplot(1,1,1)\n",
    "ax.plot(range(50), [x**2 for x in range(50)], label='x quadrat', lw=3, c='r')\n",
    "#plot other trajectories here\n",
    "ax.set_title('title', fontsize=25)\n",
    "ax.set_xlim(0,+20)\n",
    "ax.set_xlim(0,100)\n",
    "ax.set_xlabel('x axis', fontsize=20)\n",
    "ax.set_ylabel('y axis', fontsize=20)\n",
    "ax.tick_params('both', labelsize=15)\n",
    "ax.legend(loc=4, fontsize=25, frameon=False)"
   ]
  },
  {
   "cell_type": "code",
   "execution_count": null,
   "metadata": {
    "collapsed": false
   },
   "outputs": [],
   "source": [
    "#make some simple gaussian distri\n",
    "a= np.random.normal(loc=0.0, scale=100, size = 1000)\n",
    "b= np.copy(a)*1.4\n",
    "c= np.copy(b)*1.4\n",
    "d= np.copy(c)*1.4\n",
    "\n",
    "a_data= np.random.randn(1000000)\n",
    "a_hist, funny= np.histogram(a_data, 50)\n",
    "b_hist= np.copy(a_hist)*1.4\n",
    "c_hist= np.copy(b_hist)*1.4\n",
    "d_hist= np.copy(c_hist)*1.4\n",
    "#\n",
    "plt.plot(a_hist,)\n",
    "plt.show()\n",
    "\n",
    "#missing:\n",
    "## make distri classes\n",
    "## print distris, a b c being several time points\n",
    "\n",
    "mpl.style.use('bmh')\n"
   ]
  },
  {
   "cell_type": "code",
   "execution_count": null,
   "metadata": {
    "collapsed": true
   },
   "outputs": [],
   "source": []
  }
 ],
 "metadata": {
  "kernelspec": {
   "display_name": "Python 3",
   "language": "python",
   "name": "python3"
  },
  "language_info": {
   "codemirror_mode": {
    "name": "ipython",
    "version": 3
   },
   "file_extension": ".py",
   "mimetype": "text/x-python",
   "name": "python",
   "nbconvert_exporter": "python",
   "pygments_lexer": "ipython3",
   "version": "3.5.2"
  }
 },
 "nbformat": 4,
 "nbformat_minor": 2
}
